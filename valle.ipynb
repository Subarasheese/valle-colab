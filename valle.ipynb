{
  "cells": [
    {
      "cell_type": "markdown",
      "metadata": {
        "id": "qEsNHTtVlbkV"
      },
      "source": [
        "# **Vall-e.** \n"
      ]
    },
    {
      "cell_type": "code",
      "execution_count": null,
      "metadata": {
        "id": "A4Bae3VP6UsE",
        "cellView": "form"
      },
      "outputs": [],
      "source": [
        "#@title Install Vall-e dependencies\n",
        "# PyTorch\n",
        "!pip install torch==1.13.1 torchaudio==0.13.1 --extra-index-url https://download.pytorch.org/whl/cu116\n",
        "!pip install torchmetrics==0.11.1\n",
        "# fbank\n",
        "!pip install librosa==0.8.1\n",
        "\n",
        "# phonemizer\n",
        "!apt-get install espeak-ng\n",
        "## OSX: brew install espeak\n",
        "!pip install phonemizer\n",
        "\n",
        "# lhotse\n",
        "# https://github.com/lhotse-speech/lhotse/pull/956\n",
        "# https://github.com/lhotse-speech/lhotse/pull/960\n",
        "!pip uninstall lhotse\n",
        "!pip uninstall lhotse\n",
        "!pip install git+https://github.com/lhotse-speech/lhotse\n",
        "\n",
        "# k2 icefall\n",
        "# pip install k2\n",
        "!git clone https://github.com/k2-fsa/k2.git\n",
        "!cd k2\n",
        "!export K2_MAKE_ARGS=\"-j12\"\n",
        "!export K2_CMAKE_ARGS=\"-DK2_WITH_CUDA=OFF\"\n",
        "!python setup.py install\n",
        "!cd -\n",
        "\n",
        "!git clone https://github.com/k2-fsa/icefall\n",
        "!cd icefall\n",
        "!pip install -r requirements.txt\n",
        "!export PYTHONPATH=`pwd`/../icefall:$PYTHONPATH\n",
        "!echo \"export PYTHONPATH=`pwd`/../icefall:\\$PYTHONPATH\" >> ~/.zshrc\n",
        "!echo \"export PYTHONPATH=`pwd`/../icefall:\\$PYTHONPATH\" >> ~/.bashrc\n",
        "!cd -\n",
        "\n",
        "# valle\n",
        "!git clone https://github.com/lifeiteng/valle.git\n",
        "!cd valle\n",
        "!pip install -e ."
      ]
    },
    {
      "cell_type": "code",
      "execution_count": null,
      "metadata": {
        "cellView": "form",
        "id": "Pxv1DE-3sFRP"
      },
      "outputs": [],
      "source": [
        "#@title Prepare Dataset\n",
        "!pip install librosa==0.8.1\n",
        "!cd egs/libritts\n",
        "\n",
        "# Those stages are very time-consuming\n",
        "!bash run.sh --stage -1 --stop-stage 3"
      ]
    },
    {
      "cell_type": "code",
      "execution_count": null,
      "metadata": {
        "cellView": "form",
        "id": "bsdCr43Csucn"
      },
      "outputs": [],
      "source": [
        "#@title Train\n",
        "# 12G GPU --max-duration 24 --num-decoder-layers 6\n",
        "bash run.sh --stage 4 --stop-stage 4 \\\n",
        "    --num-decoder-layers 12 \\\n",
        "    --max-duration 40 --use-fp16 true"
      ]
    },
    {
      "cell_type": "code",
      "execution_count": null,
      "metadata": {
        "cellView": "form",
        "id": "Am9OA9xFs2vD"
      },
      "outputs": [],
      "source": [
        "#@title Inference\n",
        "!python3 bin/infer.py \\\n",
        "    --decoder-dim 1024 --nhead 16 --num-decoder-layers 12 --model-name valle \\\n",
        "    --text-prompts \"Go to her.\" \\\n",
        "    --audio-prompts ./prompts/61_70970_000007_000001.wav \\\n",
        "    --text \"To get up and running quickly just follow the steps below.\" \\\n",
        "    --output-dir infer/demos \\\n",
        "    --checkpoint exp/valle/epoch-10.pt"
      ]
    }
  ],
  "metadata": {
    "accelerator": "GPU",
    "colab": {
      "collapsed_sections": [
        "bbKbx185zqlz",
        "AaLtXBbPleBr"
      ],
      "provenance": [],
      "toc_visible": true
    },
    "kernelspec": {
      "display_name": "Python 3",
      "name": "python3"
    },
    "language_info": {
      "name": "python"
    }
  },
  "nbformat": 4,
  "nbformat_minor": 0
}

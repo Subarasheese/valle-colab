{
 "cells": [
  {
   "cell_type": "code",
   "execution_count": null,
   "metadata": {},
   "outputs": [],
   "source": [
    "# PyTorch\n",
    "!pip install torch==1.13.1 torchaudio==0.13.1 --extra-index-url https://download.pytorch.org/whl/cu116\n",
    "!pip install torchmetrics==0.11.1\n",
    "# fbank\n",
    "!pip install librosa==0.8.1\n",
    "\n",
    "# phonemizer\n",
    "!apt-get install espeak-ng\n",
    "## OSX: brew install espeak\n",
    "!pip install phonemizer\n",
    "\n",
    "# lhotse\n",
    "# https://github.com/lhotse-speech/lhotse/pull/956\n",
    "# https://github.com/lhotse-speech/lhotse/pull/960\n",
    "!pip uninstall lhotse\n",
    "!pip install git+https://github.com/lhotse-speech/lhotse\n",
    "\n",
    "# k2 icefall\n",
    "# pip install k2\n",
    "!git clone https://github.com/k2-fsa/k2.git\n",
    "!cd k2\n",
    "!export K2_MAKE_ARGS=\"-j12\"\n",
    "!export K2_CMAKE_ARGS=\"-DK2_WITH_CUDA=OFF\"\n",
    "!python setup.py install\n",
    "!cd -\n",
    "\n",
    "!git clone https://github.com/k2-fsa/icefall\n",
    "!cd icefall\n",
    "!pip install -r requirements.txt\n",
    "!export PYTHONPATH=`pwd`/../icefall:$PYTHONPATH\n",
    "!echo \"export PYTHONPATH=`pwd`/../icefall:\$PYTHONPATH\" >> ~/.zshrc\n",
    "!echo \"export PYTHONPATH=`pwd`/../icefall:\$PYTHONPATH\" >> ~/.bashrc\n",
    "!cd -\n",
    "\n",
    "# valle\n",
    "!git clone https://github.com/lifeiteng/valle.git\n",
    "!cd valle\n",
    "!pip install -e ."
   ]
  }
 ],
 "metadata": {
  "kernelspec": {
   "display_name": "Python 3",
   "language": "python",
   "name": "python3"
  },
  "language_info": {
   "codemirror_mode": {
    "name": "ipython",
    "version": 3
   },
   "file_extension": ".py",
   "mimetype": "text/x-python",
   "name": "python",
   "nbconvert_exporter": "python",
   "pygments_lexer": "ipython3",
   "version": "3.7.12"
  }
 },
 "nbformat": 4,
 "nbformat_minor": 5
}
